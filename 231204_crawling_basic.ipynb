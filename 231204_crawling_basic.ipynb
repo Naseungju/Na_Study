{
 "cells": [
  {
   "cell_type": "markdown",
   "id": "9a7cba6d",
   "metadata": {},
   "source": [
    "# BeautifulSoup"
   ]
  },
  {
   "cell_type": "markdown",
   "id": "1cd6ca70",
   "metadata": {},
   "source": [
    "**BeautifulSoup 설치**\n",
    "```\n",
    "conda install beautifulsoup4\n",
    "pip install beautifulsoup4\n",
    "```"
   ]
  },
  {
   "cell_type": "code",
   "execution_count": 2,
   "id": "740807a3",
   "metadata": {},
   "outputs": [
    {
     "data": {
      "text/plain": [
       "'4.12.2'"
      ]
     },
     "execution_count": 2,
     "metadata": {},
     "output_type": "execute_result"
    }
   ],
   "source": [
    "import bs4\n",
    "from bs4 import BeautifulSoup\n",
    "bs4.__version__"
   ]
  },
  {
   "cell_type": "markdown",
   "id": "b2f2b0bb",
   "metadata": {},
   "source": [
    "### 0. 코딩 패턴\n",
    "1. 조회할 HTML 내용 전달, BeautifulSoup 객체 생성\n",
    "2. BeautifulSoup 객체 메소드 이용 문서 내 필요한 정보 조회\n",
    "    - 태그 이용 조회\n",
    "    - css selector 이용 조회\n",
    "    - .표기법 이용 탐색 (tree 구조 순서대로 탐색)"
   ]
  },
  {
   "cell_type": "markdown",
   "id": "864b26cf",
   "metadata": {},
   "source": [
    "### 1. BeautifulSoup 객체 생성\n",
    "```\n",
    "BeautifulSoup(html str [,파서])\n",
    "```\n",
    "**매개변수**<br>\n",
    "- html.parser : default\n",
    "- lxml : 빠른 속도. html, xml(lxml만 가능) 파싱 가능\n",
    "    - 사용 시 install 필요\n",
    "    - conda install lxml"
   ]
  },
  {
   "cell_type": "code",
   "execution_count": 7,
   "id": "a5453d44",
   "metadata": {
    "collapsed": true
   },
   "outputs": [
    {
     "name": "stdout",
     "output_type": "stream",
     "text": [
      "<class 'str'>\n"
     ]
    },
    {
     "data": {
      "text/plain": [
       "<html>\n",
       "<head>\n",
       "<title>다양한 HTML 예제</title>\n",
       "</head>\n",
       "<body>\n",
       "<h1 id=\"main-title\">웹 크롤링 연습</h1>\n",
       "<p>여기는 간단한 HTML 예제입니다. 이 내용을 BeautifulSoup과 Requests를 사용하여 가져올 수 있습니다.</p>\n",
       "<h2>리스트</h2>\n",
       "<ul>\n",
       "<li>리스트 아이템 1</li>\n",
       "<li>리스트 아이템 2</li>\n",
       "<li>리스트 아이템 3</li>\n",
       "</ul>\n",
       "<div class=\"content\" id=\"content-div\">\n",
       "<p>이 부분은 클래스가 'content'인 div 안에 들어있는 내용입니다.</p>\n",
       "<p>또 다른 문장이 있습니다.</p>\n",
       "</div>\n",
       "<p id=\"special-paragraph\">이 단락은 특별한 id를 가지고 있습니다.</p>\n",
       "</body>\n",
       "</html>"
      ]
     },
     "execution_count": 7,
     "metadata": {},
     "output_type": "execute_result"
    }
   ],
   "source": [
    "# example.html로부터 내용 조회\n",
    "# beautifulsoup에 넣으려면 string 값으로 있어야 함\n",
    "with open('example.html','rt', encoding='utf-8') as fr:\n",
    "    docs = fr.read()\n",
    "\n",
    "print(type(docs))   # str type\n",
    "soup = BeautifulSoup(docs)    # html str을 넣어서 객체 생성\n",
    "soup.find()"
   ]
  },
  {
   "cell_type": "markdown",
   "id": "d351e656",
   "metadata": {},
   "source": [
    "### 2. BeautifulSoup 객체 메소드 이용 원하는 정보 검색\n",
    "#### Tag 객체\n",
    "- 하나의 태그(element)에 대한 정보를 다루는 객체\n",
    "    - BeautifulSoup 조회 메소드들의 **조회 결과의 반환 타입**\n",
    "    - 조회 함수들이 찾은 element가 하나인 경우 Tag 객체를, 여러개일 경우 Tag 객체들을 담은 List(ResultSet) 반환\n",
    "<br>\n",
    "- 주요 속성/메소드\n",
    "    - **태그의 속성값 조회**<br>\n",
    "`\n",
    "tag객체.get('속성명')\n",
    "tag객체['속성명']\n",
    "`\n",
    "    - **태그 내 text값 조회**<br>\n",
    "`\n",
    "tag객체.get_text()\n",
    "tag객체.text\n",
    "`\n",
    "    - **contents 속성**: 조회한 태그의 모든 자식 요소들을 리스트로 반환<br>\n",
    "`\n",
    "child_list = tag객체.contents\n",
    "`"
   ]
  },
  {
   "cell_type": "markdown",
   "id": "1ab3af46",
   "metadata": {},
   "source": [
    "### 3. 조회 함수\n",
    "1. 태그 이름으로 조회\n",
    "<br>\n",
    "- **find_all(name=태그명, attrs={속성명:속성값,...})**\n",
    "    - 이름의 모든 태그 elements들을 리스트에 담아 반환\n",
    "    - 여러 이름의 태그를 조회할 경우 List에 태그명들을 묶어서 전달\n",
    "    - 태그의 attribute 조건으로만 조회할 경우 name 생략\n",
    "<br><br>\n",
    "- **find(name=태그명, attrs={속성명:속성값,...})**\n",
    "    - 이름의 태그 중 첫 번째 태그 element 반환"
   ]
  },
  {
   "cell_type": "code",
   "execution_count": 11,
   "id": "753eefe6",
   "metadata": {},
   "outputs": [
    {
     "data": {
      "text/plain": [
       "[<p>여기는 간단한 HTML 예제입니다. 이 내용을 BeautifulSoup과 Requests를 사용하여 가져올 수 있습니다.</p>,\n",
       " <p>이 부분은 클래스가 'content'인 div 안에 들어있는 내용입니다.</p>,\n",
       " <p>또 다른 문장이 있습니다.</p>,\n",
       " <p id=\"special-paragraph\">이 단락은 특별한 id를 가지고 있습니다.</p>]"
      ]
     },
     "execution_count": 11,
     "metadata": {},
     "output_type": "execute_result"
    }
   ],
   "source": [
    "# 문서 내 모든 <p>\n",
    "soup.find_all('p')  "
   ]
  },
  {
   "cell_type": "code",
   "execution_count": 13,
   "id": "0fd0f9a3",
   "metadata": {},
   "outputs": [
    {
     "data": {
      "text/plain": [
       "[<h1 id=\"main-title\">웹 크롤링 연습</h1>, <h2>리스트</h2>]"
      ]
     },
     "execution_count": 13,
     "metadata": {},
     "output_type": "execute_result"
    }
   ],
   "source": [
    "# 여러 태그를 찾고 싶을 경우 리스트로 전달\n",
    "soup.find_all(['h1', 'h2'])  "
   ]
  },
  {
   "cell_type": "code",
   "execution_count": 14,
   "id": "24de5671",
   "metadata": {},
   "outputs": [
    {
     "data": {
      "text/plain": [
       "[<div class=\"content\" id=\"content-div\">\n",
       " <p>이 부분은 클래스가 'content'인 div 안에 들어있는 내용입니다.</p>\n",
       " <p>또 다른 문장이 있습니다.</p>\n",
       " </div>]"
      ]
     },
     "execution_count": 14,
     "metadata": {},
     "output_type": "execute_result"
    }
   ],
   "source": [
    "# class='content'인 div 태그 찾기\n",
    "soup.find_all('div', {'class':'content'})"
   ]
  },
  {
   "cell_type": "code",
   "execution_count": 16,
   "id": "8fb764ec",
   "metadata": {},
   "outputs": [
    {
     "name": "stdout",
     "output_type": "stream",
     "text": [
      "<class 'bs4.element.ResultSet'>\n",
      "<class 'bs4.element.Tag'>\n"
     ]
    }
   ],
   "source": [
    "print(type(soup.find_all(['h1', 'h2'])))     # <class 'bs4.element.ResultSet'>\n",
    "print(type(soup.find_all(['h1', 'h2'])[0]))  # <class 'bs4.element.Tag'>"
   ]
  },
  {
   "cell_type": "code",
   "execution_count": 17,
   "id": "b3780530",
   "metadata": {},
   "outputs": [
    {
     "data": {
      "text/plain": [
       "<p>여기는 간단한 HTML 예제입니다. 이 내용을 BeautifulSoup과 Requests를 사용하여 가져올 수 있습니다.</p>"
      ]
     },
     "execution_count": 17,
     "metadata": {},
     "output_type": "execute_result"
    }
   ],
   "source": [
    "# 첫 번째 p태그 element\n",
    "soup.find('p')"
   ]
  },
  {
   "cell_type": "code",
   "execution_count": 31,
   "id": "f2d114c2",
   "metadata": {},
   "outputs": [
    {
     "name": "stdout",
     "output_type": "stream",
     "text": [
      "['content']\n",
      "\n",
      "이 부분은 클래스가 'content'인 div 안에 들어있는 내용입니다.\n",
      "또 다른 문장이 있습니다.\n",
      "\n",
      "이 부분은 클래스가 'content'인 div 안에 들어있는 내용입니다.\n",
      "['\\n', <p>이 부분은 클래스가 'content'인 div 안에 들어있는 내용입니다.</p>, '\\n', <p>또 다른 문장이 있습니다.</p>, '\\n']\n",
      "<class 'bs4.element.Tag'>\n",
      "<class 'bs4.element.Tag'>\n"
     ]
    }
   ],
   "source": [
    "result = soup.find('div')\n",
    "print(result.get('class'))  # tag의 class 속성 조회\n",
    "print(result.get_text())    # tag 내 text 조회\n",
    "\n",
    "# 하위 element 조회\n",
    "print(result.find('p').text)\n",
    "\n",
    "# contents 사용 > 엔터까지 나옴(불필요)\n",
    "print(result.contents)\n",
    "for txt in result.contents:\n",
    "    if isinstance(txt, bs4.element.Tag):  # 태그 타입만 실행\n",
    "        print(type(txt))"
   ]
  },
  {
   "cell_type": "markdown",
   "id": "b8c7c5f1",
   "metadata": {},
   "source": [
    "2. css selector 이용 조회<br>\n",
    "- **select(selector='css셀렉터')**\n",
    "    - css 셀럭터와 일치하는 tag들 반환<br>\n",
    "- **select_one(selector='css셀렉터')**\n",
    "    - css 셀럭터와 일치하는 첫 번째 tag 반환"
   ]
  },
  {
   "cell_type": "code",
   "execution_count": 34,
   "id": "4a893f6d",
   "metadata": {},
   "outputs": [
    {
     "name": "stdout",
     "output_type": "stream",
     "text": [
      "[<p>여기는 간단한 HTML 예제입니다. 이 내용을 BeautifulSoup과 Requests를 사용하여 가져올 수 있습니다.</p>, <p>이 부분은 클래스가 'content'인 div 안에 들어있는 내용입니다.</p>, <p>또 다른 문장이 있습니다.</p>, <p id=\"special-paragraph\">이 단락은 특별한 id를 가지고 있습니다.</p>]\n",
      "[<h1 id=\"main-title\">웹 크롤링 연습</h1>, <h2>리스트</h2>]\n"
     ]
    }
   ],
   "source": [
    "print(soup.select('p'))\n",
    "print(soup.select('h1, h2'))  # 여러 태그 조회: 쉼표로 연결"
   ]
  },
  {
   "cell_type": "code",
   "execution_count": 36,
   "id": "7219a9b9",
   "metadata": {},
   "outputs": [
    {
     "name": "stdout",
     "output_type": "stream",
     "text": [
      "[<div class=\"content\" id=\"content-div\">\n",
      "<p>이 부분은 클래스가 'content'인 div 안에 들어있는 내용입니다.</p>\n",
      "<p>또 다른 문장이 있습니다.</p>\n",
      "</div>]\n",
      "[<div class=\"content\" id=\"content-div\">\n",
      "<p>이 부분은 클래스가 'content'인 div 안에 들어있는 내용입니다.</p>\n",
      "<p>또 다른 문장이 있습니다.</p>\n",
      "</div>]\n"
     ]
    }
   ],
   "source": [
    "# class 속성명 검색 > .클래스 속성값\n",
    "# 태그명.클래스 속성값 : 특정 태그 클래스 한정\n",
    "print(soup.select('.content'))\n",
    "print(soup.select('div.content'))"
   ]
  },
  {
   "cell_type": "code",
   "execution_count": 38,
   "id": "b1168247",
   "metadata": {},
   "outputs": [
    {
     "data": {
      "text/plain": [
       "<div class=\"content\" id=\"content-div\">\n",
       "<p>이 부분은 클래스가 'content'인 div 안에 들어있는 내용입니다.</p>\n",
       "<p>또 다른 문장이 있습니다.</p>\n",
       "</div>"
      ]
     },
     "execution_count": 38,
     "metadata": {},
     "output_type": "execute_result"
    }
   ],
   "source": [
    "# id 속성으로 조회 > #id속성값\n",
    "#    태그명.#id속성값\n",
    "soup.select_one('#content-div')  "
   ]
  },
  {
   "cell_type": "markdown",
   "id": "0a85297e",
   "metadata": {},
   "source": [
    "3. .표기법 (dot notation)\n",
    "    - dom tree 구조의 계층 순서대로 조회\n",
    "    - 위 두 방식으로 찾은 tag를 기준으로 그 주위의 element들을 찾을 때 사용\n",
    "```\n",
    "# 자식 태그(노트) 표현\n",
    "#    parent > child ==> 찾는 대상: child\n",
    "result = soup.select('#animal2 > .animal')\n",
    "\n",
    "# result = soup.select('li > a')\n",
    "#    조상 자손 ==> 찾는 대상: 자손 태그\n",
    "result = soup.select('ul a')    # ul:조상 -> li -> a:자손\n",
    "\n",
    "# div 중에서 두 번째 자식 태그 조회\n",
    "result = soup.select('div:nth-child(2)')   \n",
    "```"
   ]
  },
  {
   "cell_type": "markdown",
   "id": "7a74c8a0",
   "metadata": {},
   "source": [
    "# Requests\n",
    "- HTTP 요청 처리 파이썬 패키지\n",
    "- get/post 방식 모두 지원\n",
    "```\n",
    "pip install requests\n",
    "conda install -c conda-forge requests\n",
    "```"
   ]
  },
  {
   "cell_type": "markdown",
   "id": "815d9edc",
   "metadata": {},
   "source": [
    "### 0. 코딩 패턴\n",
    "1. get()/post()함수 이용 url 전달해 서버 요청\n",
    "2. 응답받은 내용 처리\n",
    "    - text(HTML)은 BeautifulSoup에 넣어 parsing\n",
    "    - binary 파일의 경우 파일 출력을 이용해 local에 저장\n",
    "  "
   ]
  },
  {
   "cell_type": "markdown",
   "id": "08f6794c",
   "metadata": {},
   "source": [
    "### 1. 요청 함수 (get/post)\n",
    "1. **requests.get(URL)**\n",
    "    - GET 방식 요청\n",
    "    - 매개변수\n",
    "        - params : 요청 파라미터를 dictionary로 전달\n",
    "        - headers : HTTP 요청 header를 dictionary로 전달\n",
    "            - 'User-Agent', 'Referer' 등 헤더 설정 : client 정보\n",
    "        - cookies : 쿠키 정보 전달\n",
    "    - return value : response(응답 결과)"
   ]
  },
  {
   "cell_type": "markdown",
   "id": "5c63b641",
   "metadata": {},
   "source": [
    "2. **requests.post(URL)**\n",
    "    - POST 방식 요청\n",
    "    - 매개변수\n",
    "        - datas : 요청 파라미터를 dictionary로 전달\n",
    "        - files : 업로드할 파일을 dictionary로 전달\n",
    "            - key: 이름, value: 파일과 연결된 InputStream(TextIOWrapper)\n",
    "        - headers: HTTP 요청 header를 dictionary로 전달\n",
    "            - 'User-Agent', 'Referer' 등 헤더 설정 : client 정보\n",
    "        - cookies : 쿠키 정보 전달\n",
    "    - return value : response(응답 결과)"
   ]
  },
  {
   "cell_type": "code",
   "execution_count": 1,
   "id": "d2443644",
   "metadata": {},
   "outputs": [
    {
     "name": "stdout",
     "output_type": "stream",
     "text": [
      "<class 'str'>\n",
      "200\n",
      "{'Server': 'NWS', 'Date': 'Mon, 04 Dec 2023 13:55:16 GMT', 'Content-Type': 'text/html; charset=UTF-8', 'Transfer-Encoding': 'chunked', 'Connection': 'keep-alive', 'Set-Cookie': 'PM_CK_loc=95ca7532295d92eebd7e23af26d32e020261a8f31510b2b35457b26e498a7c78; Expires=Tue, 05 Dec 2023 13:55:16 GMT; Path=/; HttpOnly', 'Cache-Control': 'no-cache, no-store, must-revalidate', 'Pragma': 'no-cache', 'X-Frame-Options': 'DENY', 'X-XSS-Protection': '1; mode=block', 'Content-Encoding': 'gzip', 'Strict-Transport-Security': 'max-age=63072000; includeSubdomains', 'Referrer-Policy': 'unsafe-url'}\n"
     ]
    }
   ],
   "source": [
    "import requests\n",
    "from bs4 import BeautifulSoup\n",
    "url = 'https://www.naver.com'\n",
    "\n",
    "res = requests.get(url)       # 요청 ~ 응답\n",
    "print(type(res.text))\n",
    "print(res.status_code)\n",
    "\n",
    "if res.status_code == 200:\n",
    "    print(res.headers)\n",
    "    soup = BeautifulSoup(res.text)\n",
    "else:\n",
    "    print('문제 발생')\n",
    "    \n",
    "    \n",
    "soup = BeautifulSoup(res.text, \"html.parser\")\n",
    "# print(soup)"
   ]
  },
  {
   "cell_type": "markdown",
   "id": "475f0fee",
   "metadata": {},
   "source": [
    "### 2. Response 객체 - 응답 데이터\n",
    "- get()/post() 의 요청에 대한 서버의 응답 결과를 Response에 담아 반환\n",
    "    - Response의 속성을 이용해 응답 결과를 조회\n",
    "    <br>\n",
    "- 주요 속성(Attribute)\n",
    "    - **url :** 응답 받은(요청한) url\n",
    "    - **status_code :** HTTP 응답 상태 코드\n",
    "    - **headers :** 응답 header 정보를 dictionary로 반환\n",
    "    <br><br>\n",
    "- **응답 결과 조회**\n",
    "    - **text :** 응답 내용(html을 str로 반환)\n",
    "    - **content :** 응답 내용(응답 결과가 binary-image, 동영상 등- 일 경우 사용하며 bytes로 반환)\n",
    "    - **json() :** 응답 결과가 JSON 인 경우 dictionary로 변환해서 반환"
   ]
  },
  {
   "cell_type": "markdown",
   "id": "8d6145b2",
   "metadata": {},
   "source": [
    "**HTTP 응답 상태코드**\n",
    "- 2XX: 성공\n",
    "    - 200: OK\n",
    "- 3XX: 다른 주소로 이동 (이사)\n",
    "    - 300번대이면 자동으로 이동해 준다. 크롤링 시는 볼일이 별로 없다.\n",
    "- 4XX: 클라이언트 오류 (사용자가 잘못한 것)\n",
    "    - 404: 존재하지 않는 주소\n",
    "- 5XX: 서버 오류 (서버에서 문제 생긴 것)\n",
    "    - 500: 서버가 처리 방법을 모르는 오류\n",
    "    - 503: 서버가 다운 등의 문제로 서비스 불가 상태"
   ]
  }
 ],
 "metadata": {
  "kernelspec": {
   "display_name": "Python 3 (ipykernel)",
   "language": "python",
   "name": "python3"
  },
  "language_info": {
   "codemirror_mode": {
    "name": "ipython",
    "version": 3
   },
   "file_extension": ".py",
   "mimetype": "text/x-python",
   "name": "python",
   "nbconvert_exporter": "python",
   "pygments_lexer": "ipython3",
   "version": "3.10.11"
  }
 },
 "nbformat": 4,
 "nbformat_minor": 5
}
